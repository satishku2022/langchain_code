{
 "cells": [
  {
   "cell_type": "code",
   "execution_count": null,
   "id": "7f2c8435-bc55-44ae-ad49-bd30de02f303",
   "metadata": {},
   "outputs": [],
   "source": []
  }
 ],
 "metadata": {
  "kernelspec": {
   "display_name": "",
   "name": ""
  },
  "language_info": {
   "name": ""
  }
 },
 "nbformat": 4,
 "nbformat_minor": 5
}
